{
 "cells": [
  {
   "cell_type": "code",
   "execution_count": null,
   "id": "4a6f582b",
   "metadata": {},
   "outputs": [],
   "source": [
    "import pandas as pd\n",
    "import numpy as np\n",
    "import matplotlib.pyplot as plt\n",
    "import seaborn as sns"
   ]
  },
  {
   "cell_type": "code",
   "execution_count": null,
   "id": "5a751d3d",
   "metadata": {},
   "outputs": [],
   "source": [
    "gdp_df = pd.read_csv('../un_data-phoenixslone/data/gdp_percapita.csv')\n",
    "gdp_df.head()"
   ]
  },
  {
   "cell_type": "code",
   "execution_count": null,
   "id": "44d117f2",
   "metadata": {},
   "outputs": [],
   "source": [
    "gdp_df.tail()"
   ]
  },
  {
   "cell_type": "markdown",
   "id": "6ce5126c",
   "metadata": {},
   "source": [
    "5. How many rows and columns are in gdp_df? What are the data types of each column? 7176 rows and 4 columns (1776,4)"
   ]
  },
  {
   "cell_type": "code",
   "execution_count": null,
   "id": "6d25d413",
   "metadata": {},
   "outputs": [],
   "source": [
    "gdp_df.shape"
   ]
  },
  {
   "cell_type": "markdown",
   "id": "d14b9f24",
   "metadata": {},
   "source": [
    "6. Drop the `Value Footnotes` column and rename the remaining three to 'Country', 'Year', and 'GDP_Per_Capita'."
   ]
  },
  {
   "cell_type": "code",
   "execution_count": null,
   "id": "6a3e7f67",
   "metadata": {},
   "outputs": [],
   "source": [
    "gdp_df.columns"
   ]
  },
  {
   "cell_type": "code",
   "execution_count": null,
   "id": "6cab8030",
   "metadata": {},
   "outputs": [],
   "source": [
    "gdp_df2 = gdp_df.drop(columns = ['Value Footnotes'])"
   ]
  },
  {
   "cell_type": "code",
   "execution_count": null,
   "id": "66eea715",
   "metadata": {},
   "outputs": [],
   "source": [
    "gdp_df2.columns"
   ]
  },
  {
   "cell_type": "code",
   "execution_count": null,
   "id": "43c362ab",
   "metadata": {},
   "outputs": [],
   "source": [
    "gdp_df2.columns = ['Country', 'Year', 'GDP_Per_Capita']\n",
    "gdp_df2.columns"
   ]
  },
  {
   "cell_type": "markdown",
   "id": "8a08b29d",
   "metadata": {},
   "source": [
    "7a. How many countries have data for all years?"
   ]
  },
  {
   "cell_type": "code",
   "execution_count": null,
   "id": "c85d3bf1",
   "metadata": {
    "scrolled": false
   },
   "outputs": [],
   "source": [
    "gdp_countries = gdp_df2.Country.value_counts()\n",
    "gdp_countries"
   ]
  },
  {
   "cell_type": "code",
   "execution_count": null,
   "id": "7d67fb8c",
   "metadata": {},
   "outputs": [],
   "source": [
    "gdp_countries = gdp_countries.to_frame()"
   ]
  },
  {
   "cell_type": "code",
   "execution_count": null,
   "id": "695bf089",
   "metadata": {},
   "outputs": [],
   "source": [
    "gdp_countries = gdp_countries.reset_index()"
   ]
  },
  {
   "cell_type": "code",
   "execution_count": null,
   "id": "c316cc74",
   "metadata": {},
   "outputs": [],
   "source": [
    "gdp_countries.columns = ['Country', 'Count']\n",
    "gdp_countries.columns"
   ]
  },
  {
   "cell_type": "code",
   "execution_count": null,
   "id": "37ab4d6f",
   "metadata": {},
   "outputs": [],
   "source": [
    "count = len(gdp_countries[gdp_countries['Count']==31])\n",
    "count"
   ]
  },
  {
   "cell_type": "code",
   "execution_count": null,
   "id": "4072681c",
   "metadata": {
    "scrolled": true
   },
   "outputs": [],
   "source": [
    "gdp_countries"
   ]
  },
  {
   "cell_type": "markdown",
   "id": "0271d98e",
   "metadata": {},
   "source": [
    "7b. Which countries are missing many years of data? "
   ]
  },
  {
   "cell_type": "code",
   "execution_count": null,
   "id": "9cf4384a",
   "metadata": {
    "scrolled": true
   },
   "outputs": [],
   "source": [
    "242 - 205"
   ]
  },
  {
   "cell_type": "markdown",
   "id": "74c4ff35",
   "metadata": {},
   "source": [
    "#### countries that have less than 31 years|"
   ]
  },
  {
   "cell_type": "code",
   "execution_count": null,
   "id": "c8f9cc6b",
   "metadata": {
    "scrolled": false
   },
   "outputs": [],
   "source": [
    "gdp_countries.tail(37)"
   ]
  },
  {
   "cell_type": "markdown",
   "id": "945be632",
   "metadata": {},
   "source": [
    "7c. Look at the number of observations per year. What do you notice? "
   ]
  },
  {
   "cell_type": "code",
   "execution_count": null,
   "id": "e46a8742",
   "metadata": {
    "scrolled": true
   },
   "outputs": [],
   "source": [
    "gdp_df2.value_counts('Year')"
   ]
  },
  {
   "cell_type": "markdown",
   "id": "11896b32",
   "metadata": {},
   "source": [
    "8. In this question, you're going to create some plots to show the distribution of GDP per capita for the year 2020. Go to the Python Graph Gallery (https://www.python-graph-gallery.com/) and look at the different types of plots under the Distribution section. Create a histogram, a density plot, a boxplot, and a violin plot. What do you notice when you look at these plots? How do the plots compare and what information can you get out of one type that you can't necessarily get out of the others?"
   ]
  },
  {
   "cell_type": "code",
   "execution_count": null,
   "id": "822bbbc9",
   "metadata": {},
   "outputs": [],
   "source": [
    "gdp_2020 = gdp_df2.loc[gdp_df2.Year == 2020]\n",
    "gdp_2020.shape"
   ]
  },
  {
   "cell_type": "code",
   "execution_count": null,
   "id": "96900f3e",
   "metadata": {},
   "outputs": [],
   "source": [
    "gdp_2020"
   ]
  },
  {
   "cell_type": "code",
   "execution_count": null,
   "id": "510de0d3",
   "metadata": {},
   "outputs": [],
   "source": [
    "sns.histplot(data = gdp_2020, x=\"GDP_Per_Capita\")\n",
    "plt.xlabel('GDP Per Capita')\n",
    "plt.ylabel('Total Distribution')\n",
    "plt.title('Distribution of GDP Per Capita for 2020')\n",
    "plt.show()"
   ]
  },
  {
   "cell_type": "code",
   "execution_count": null,
   "id": "3e36b3c8",
   "metadata": {},
   "outputs": [],
   "source": [
    "sns.kdeplot(gdp_2020['GDP_Per_Capita'])\n",
    "plt.xlabel('GDP Per Capita')\n",
    "plt.ylabel('Total Distribution')\n",
    "plt.title('Distribution of GDP Per Capita for 2020')\n",
    "plt.show()"
   ]
  },
  {
   "cell_type": "code",
   "execution_count": null,
   "id": "937cd59e",
   "metadata": {},
   "outputs": [],
   "source": [
    "sns.boxplot( x=gdp_2020[\"Year\"], y=gdp_2020[\"GDP_Per_Capita\"] )\n",
    "plt.xlabel('GDP Per Capita')\n",
    "plt.ylabel('Total Distribution')\n",
    "plt.title('Distribution of GDP Per Capita for 2020')\n",
    "plt.show()"
   ]
  },
  {
   "cell_type": "code",
   "execution_count": null,
   "id": "42ef814d",
   "metadata": {},
   "outputs": [],
   "source": [
    "sns.violinplot(x=gdp_2020[\"Year\"], y=gdp_2020[\"GDP_Per_Capita\"])\n",
    "plt.xlabel('GDP Per Capita')\n",
    "plt.ylabel('Total Distribution')\n",
    "plt.title('Distribution of GDP Per Capita for 2020')\n",
    "plt.show()"
   ]
  },
  {
   "cell_type": "markdown",
   "id": "5e9f6702",
   "metadata": {},
   "source": [
    "##### In the year 2020, most countries had a GDP per capita of 0-20,000\n",
    "- Country Products / Population = GDP \n",
    "##### In the box plot and violin plot hide the individual data points but show the median, quartile ranges, and outliers. "
   ]
  },
  {
   "cell_type": "markdown",
   "id": "6f5d8374",
   "metadata": {},
   "source": [
    "9. What was the median GDP per capita value in 2020? "
   ]
  },
  {
   "cell_type": "code",
   "execution_count": null,
   "id": "45048a0e",
   "metadata": {},
   "outputs": [],
   "source": [
    "gdp_2020.median()"
   ]
  },
  {
   "cell_type": "markdown",
   "id": "a141fe7d",
   "metadata": {},
   "source": [
    "10. For this question, you're going to create some visualizations to compare GDP per capita values for the years 1990, 2000, 2010, and 2020. Start by subsetting your data to just these 4 years into a new DataFrame named gdp_decades. Using this, create the following 4 plots:"
   ]
  },
  {
   "cell_type": "code",
   "execution_count": null,
   "id": "fff97375",
   "metadata": {},
   "outputs": [],
   "source": [
    "gdp_1990 = gdp_df2.loc[gdp_df2.Year == 1990]\n",
    "gdp_1990.shape"
   ]
  },
  {
   "cell_type": "code",
   "execution_count": null,
   "id": "31e59fd9",
   "metadata": {},
   "outputs": [],
   "source": [
    "gdp_2000 = gdp_df2.loc[gdp_df2.Year == 2000]\n",
    "gdp_2000.shape"
   ]
  },
  {
   "cell_type": "code",
   "execution_count": null,
   "id": "e8048e0e",
   "metadata": {},
   "outputs": [],
   "source": [
    "gdp_2010 = gdp_df2.loc[gdp_df2.Year == 2010]\n",
    "gdp_2010.shape"
   ]
  },
  {
   "cell_type": "code",
   "execution_count": null,
   "id": "2dd9cf2a",
   "metadata": {},
   "outputs": [],
   "source": [
    "gdp_decades = pd.concat([gdp_1990, gdp_2000, gdp_2010, gdp_2020])\n",
    "gdp_decades"
   ]
  },
  {
   "cell_type": "code",
   "execution_count": null,
   "id": "a510915b",
   "metadata": {},
   "outputs": [],
   "source": [
    "sns.boxplot( x=gdp_decades[\"Year\"], y=gdp_decades[\"GDP_Per_Capita\"] )\n",
    "plt.xlabel('Year')\n",
    "plt.ylabel('GDP Per Capita')\n",
    "plt.title('GDP Per Capita values for Years: 1990, 2000, 2010, and 2020')\n",
    "plt.show()"
   ]
  },
  {
   "cell_type": "code",
   "execution_count": null,
   "id": "0dbe0239",
   "metadata": {
    "scrolled": true
   },
   "outputs": [],
   "source": [
    "sns.barplot( x=gdp_decades[\"Year\"], y=gdp_decades[\"GDP_Per_Capita\"] )\n",
    "plt.xlabel('Year')\n",
    "plt.ylabel('GDP Per Capita')\n",
    "plt.title('GDP Per Capita values for Years: 1990, 2000, 2010, and 2020')\n",
    "plt.show()"
   ]
  },
  {
   "cell_type": "code",
   "execution_count": null,
   "id": "1e46a94f",
   "metadata": {},
   "outputs": [],
   "source": [
    "plt.scatter(x = 'Year', y ='GDP_Per_Capita', data = gdp_decades)\n",
    "plt.xlabel('Year')\n",
    "plt.ylabel('GDP Per Capita')\n",
    "plt.title('GDP Per Capita values for Years: 1990, 2000, 2010, and 2020')\n",
    "plt.show()"
   ]
  },
  {
   "cell_type": "code",
   "execution_count": null,
   "id": "172653a7",
   "metadata": {},
   "outputs": [],
   "source": [
    "sns.regplot(x=gdp_decades[\"Year\"], y=gdp_decades[\"GDP_Per_Capita\"])\n",
    "plt.xlabel('Year')\n",
    "plt.ylabel('GDP Per Capita')\n",
    "plt.title('GDP Per Capita values for Years: 1990, 2000, 2010, and 2020')\n",
    "plt.show()"
   ]
  },
  {
   "cell_type": "markdown",
   "id": "75d26132",
   "metadata": {},
   "source": [
    "Comment on what you observe has happened to GDP values over time and the relative strengths and weaknesses of each type of plot. --The GDP Per Capita slightly increases over each decade."
   ]
  },
  {
   "cell_type": "markdown",
   "id": "b59b4e0d",
   "metadata": {},
   "source": [
    "11. Which country was the first to have a GDP per capita greater than $100,000?"
   ]
  },
  {
   "cell_type": "code",
   "execution_count": null,
   "id": "79dc183f",
   "metadata": {},
   "outputs": [],
   "source": [
    "gdp_decades"
   ]
  },
  {
   "cell_type": "code",
   "execution_count": null,
   "id": "ee5b87a1",
   "metadata": {},
   "outputs": [],
   "source": [
    "gdp_over_100000 = gdp_df2.loc[gdp_df2.GDP_Per_Capita > 100000]\n",
    "gdp_over_100000.shape"
   ]
  },
  {
   "cell_type": "code",
   "execution_count": null,
   "id": "744c38f6",
   "metadata": {},
   "outputs": [],
   "source": [
    "gdp_over_100000.tail(1)"
   ]
  },
  {
   "cell_type": "markdown",
   "id": "5caf498d",
   "metadata": {},
   "source": [
    "gdp_over_100000 was already in order by year, so I took the .tail(1) aka the bottom number to find the earliest year"
   ]
  },
  {
   "cell_type": "markdown",
   "id": "ae978d61",
   "metadata": {},
   "source": [
    "#### 12. Which country had the highest GDP per capita in 2020? Create a plot showing how this country's GDP per capita has changed over the timespan of the dataset."
   ]
  },
  {
   "cell_type": "code",
   "execution_count": null,
   "id": "0cde509b",
   "metadata": {
    "scrolled": true
   },
   "outputs": [],
   "source": [
    "gdp_2020_asc = gdp_2020.sort_values(['GDP_Per_Capita'], ascending=False)\n",
    "gdp_2020_asc"
   ]
  },
  {
   "cell_type": "code",
   "execution_count": null,
   "id": "d88a1298",
   "metadata": {},
   "outputs": [],
   "source": [
    "gdp_2020.nlargest(1, 'GDP_Per_Capita')"
   ]
  },
  {
   "cell_type": "code",
   "execution_count": null,
   "id": "feeebe70",
   "metadata": {},
   "outputs": [],
   "source": [
    "gdp_2020_asc.head(1)"
   ]
  },
  {
   "cell_type": "code",
   "execution_count": null,
   "id": "5921e8c9",
   "metadata": {},
   "outputs": [],
   "source": [
    "lux_gdp = gdp_df2.loc[gdp_df2.Country == 'Luxembourg']\n",
    "lux_gdp.shape"
   ]
  },
  {
   "cell_type": "code",
   "execution_count": null,
   "id": "8a6e9c5f",
   "metadata": {
    "scrolled": true
   },
   "outputs": [],
   "source": [
    "sns.regplot(x=lux_gdp[\"Year\"], y=lux_gdp[\"GDP_Per_Capita\"])\n",
    "plt.xlabel('Year')\n",
    "plt.ylabel('GDP Per Capita')\n",
    "plt.title('Luxembourg GDP Per Capita Over Time')\n",
    "plt.show()"
   ]
  },
  {
   "cell_type": "code",
   "execution_count": null,
   "id": "b77fdfe3",
   "metadata": {},
   "outputs": [],
   "source": [
    "x_axis = lux_gdp['Year']\n",
    "y_axis = lux_gdp['GDP_Per_Capita']\n",
    "plt.plot(x_axis, y_axis)\n",
    "plt.xlabel('Year')\n",
    "plt.ylabel('GDP Per Capita')\n",
    "plt.title('Luxembourg GDP Per Capita Over Time')\n",
    "plt.show()"
   ]
  },
  {
   "cell_type": "markdown",
   "id": "3da3d1cd",
   "metadata": {},
   "source": [
    "13. Which country had the lowest GDP per capita in 2020? Create a plot showing how this country's GDP per capita has changed over the timespan of the dataset. **Bonus question:** Is it true in general that coutries had a higher GDP per capita in 2020 than in 1990? Which countries had lower GDP per capita in 2020 than in 1990?"
   ]
  },
  {
   "cell_type": "code",
   "execution_count": null,
   "id": "e8c0dd3b",
   "metadata": {
    "scrolled": true
   },
   "outputs": [],
   "source": [
    "gdp_2020_asc = gdp_2020.sort_values(['GDP_Per_Capita'], ascending=False)\n",
    "gdp_2020_asc"
   ]
  },
  {
   "cell_type": "code",
   "execution_count": null,
   "id": "b5579948",
   "metadata": {},
   "outputs": [],
   "source": [
    "gdp_2020_asc = gdp_2020.sort_values(['GDP_Per_Capita'], ascending=False)\n",
    "gdp_2020_asc.tail(1)"
   ]
  },
  {
   "cell_type": "code",
   "execution_count": null,
   "id": "39efac5a",
   "metadata": {},
   "outputs": [],
   "source": [
    "bur_gdp = gdp_df2.loc[gdp_df2.Country == 'Burundi']\n",
    "bur_gdp.shape"
   ]
  },
  {
   "cell_type": "code",
   "execution_count": null,
   "id": "42641d47",
   "metadata": {},
   "outputs": [],
   "source": [
    "x_axis = bur_gdp['Year']\n",
    "y_axis = bur_gdp['GDP_Per_Capita']\n",
    "plt.plot(x_axis, y_axis)\n",
    "plt.xlabel('Year')\n",
    "plt.ylabel('GDP Per Capita')\n",
    "plt.title(\"Burundi GDP Per Capita Over Time \")\n",
    "plt.show()"
   ]
  },
  {
   "cell_type": "markdown",
   "id": "f6863226",
   "metadata": {},
   "source": [
    "14. Read in the internet use dataset into a DataFrame named `internet_df`. You will likely get errors when doing this. Check the arguments for the read_csv function to find ones that can help correct the errors. Once you are able to read it in, take per a look at the top and bottom few rows to make sure that it has been read in correctly. Also, check the datatypes of the columns."
   ]
  },
  {
   "cell_type": "code",
   "execution_count": null,
   "id": "b6330179",
   "metadata": {},
   "outputs": [],
   "source": [
    "internet_df = pd.read_csv('C:/Users/Home/Desktop/NSS- DDA10/python/projects/un_data-phoenixslone/data/internet_use.csv',nrows = 4495)\n",
    "internet_df.info"
   ]
  },
  {
   "cell_type": "markdown",
   "id": "6e8d604e",
   "metadata": {},
   "source": [
    "15. Drop the `Value Footnotes` column and rename the remaining three to 'Country', 'Year', and 'Internet_Users_Pct'."
   ]
  },
  {
   "cell_type": "code",
   "execution_count": null,
   "id": "27f95e77",
   "metadata": {},
   "outputs": [],
   "source": [
    "internet_df2 = internet_df.drop(columns = ['Value Footnotes'])"
   ]
  },
  {
   "cell_type": "code",
   "execution_count": null,
   "id": "21b70766",
   "metadata": {},
   "outputs": [],
   "source": [
    "internet_df2.columns = ['Country','Year', 'Internet_Users_Pct']\n",
    "internet_df2.columns"
   ]
  },
  {
   "cell_type": "markdown",
   "id": "631b302e",
   "metadata": {},
   "source": [
    "16. Look at the number of observations in this dataset per year. What do you notice?"
   ]
  },
  {
   "cell_type": "code",
   "execution_count": null,
   "id": "33470cb7",
   "metadata": {},
   "outputs": [],
   "source": [
    "internet_df2.value_counts('Year')"
   ]
  },
  {
   "cell_type": "markdown",
   "id": "88f3ee86",
   "metadata": {},
   "source": [
    "17. What is the first year to have a non-zero internet users percentage value?"
   ]
  },
  {
   "cell_type": "markdown",
   "id": "46e83c80",
   "metadata": {},
   "source": [
    "- Sorting values from least to greatest to have 0% on top"
   ]
  },
  {
   "cell_type": "code",
   "execution_count": null,
   "id": "3995dd41",
   "metadata": {},
   "outputs": [],
   "source": [
    "internet_df2_asc = internet_df2.sort_values(['Internet_Users_Pct'], ascending=True)\n",
    "internet_df2_asc"
   ]
  },
  {
   "cell_type": "markdown",
   "id": "04c33f53",
   "metadata": {},
   "source": [
    "- Filtering to where Internet_Users_Pct is greater than 0"
   ]
  },
  {
   "cell_type": "code",
   "execution_count": null,
   "id": "35e43af7",
   "metadata": {},
   "outputs": [],
   "source": [
    "internet_over_zero = internet_df2_asc.loc[internet_df2['Internet_Users_Pct'] > 0]\n",
    "internet_over_zero"
   ]
  },
  {
   "cell_type": "markdown",
   "id": "e7bae78e",
   "metadata": {},
   "source": [
    "- Finding the first year that was greater than zero. A: 1995"
   ]
  },
  {
   "cell_type": "code",
   "execution_count": null,
   "id": "c15c20a2",
   "metadata": {},
   "outputs": [],
   "source": [
    "internet_over_zero.head(1)"
   ]
  },
  {
   "cell_type": "markdown",
   "id": "7ca1f684",
   "metadata": {},
   "source": [
    "18. How does the distribution of internet users percent differ for 2000 and 2014? A: 2014 has significantly more users than in 2000."
   ]
  },
  {
   "cell_type": "code",
   "execution_count": null,
   "id": "1112b006",
   "metadata": {},
   "outputs": [],
   "source": [
    "internet_2000= internet_df2[(internet_df2['Year']==2000)]\n",
    "internet_2000"
   ]
  },
  {
   "cell_type": "code",
   "execution_count": null,
   "id": "3e3a6701",
   "metadata": {},
   "outputs": [],
   "source": [
    "internet_2014= internet_df2[(internet_df2['Year']==2014)]\n",
    "internet_2014"
   ]
  },
  {
   "cell_type": "code",
   "execution_count": null,
   "id": "2908c3ea",
   "metadata": {},
   "outputs": [],
   "source": [
    "sns.histplot(data=internet_2000, x=\"Internet_Users_Pct\", color=\"skyblue\", label=\"2000\", kde=True)\n",
    "sns.histplot(data=internet_2014, x=\"Internet_Users_Pct\", color=\"red\", label=\"2014\", kde=True)\n",
    "plt.xlabel('Internet Users Percent')\n",
    "plt.ylabel('Total Number')\n",
    "plt.title('Distribution of Internet Users Percent for 2000 and 2014')\n",
    "plt.legend() \n",
    "plt.show()\n"
   ]
  },
  {
   "cell_type": "markdown",
   "id": "c479082a",
   "metadata": {},
   "source": [
    "19. For how many countries was the percentage of internet users below 5% in 2014? A: 16"
   ]
  },
  {
   "cell_type": "code",
   "execution_count": null,
   "id": "25889681",
   "metadata": {},
   "outputs": [],
   "source": [
    "internet2014_users_below_5 = internet_2014.loc[internet_2014['Internet_Users_Pct'] < 5]\n",
    "internet2014_users_below_5.shape"
   ]
  },
  {
   "cell_type": "markdown",
   "id": "863153eb",
   "metadata": {},
   "source": [
    "20. Merge the two DataFrames to one. Do this in a way that keeps **all rows** from each of the two DataFrames. Call the new DataFrame `gdp_and_internet_use`. Look at the first and last few rows to confirm that it merged correctly."
   ]
  },
  {
   "cell_type": "markdown",
   "id": "a06e448f",
   "metadata": {},
   "source": [
    "- Joining on both Country and Year to prevent duplicate columns"
   ]
  },
  {
   "cell_type": "code",
   "execution_count": null,
   "id": "d77ecfd4",
   "metadata": {},
   "outputs": [],
   "source": [
    "gdp_and_internet_use = pd.merge(gdp_df2, internet_df2,\n",
    "                               left_on = ['Year', 'Country'], right_on = ['Year','Country'],\n",
    "                               how = 'outer')\n",
    "gdp_and_internet_use"
   ]
  },
  {
   "cell_type": "markdown",
   "id": "0d3b3514",
   "metadata": {},
   "source": [
    "21. Find the three countries with the highest internet users percentage in 2014. Use a seaborn FacetGrid to compare how the GDP per capita has changed over time for these three countries. What do you notice?"
   ]
  },
  {
   "cell_type": "markdown",
   "id": "37822689",
   "metadata": {},
   "source": [
    "- Finding the 3 Countries with the highest Internet Users Percent "
   ]
  },
  {
   "cell_type": "code",
   "execution_count": null,
   "id": "154f6de6",
   "metadata": {},
   "outputs": [],
   "source": [
    "internet_2014.nlargest(3, 'Internet_Users_Pct')"
   ]
  },
  {
   "cell_type": "markdown",
   "id": "8e271741",
   "metadata": {},
   "source": [
    "- Filtering the df to specifically those 3 countries"
   ]
  },
  {
   "cell_type": "code",
   "execution_count": null,
   "id": "764ac882",
   "metadata": {},
   "outputs": [],
   "source": [
    "gdp_top = gdp_df2[(gdp_df2['Country'].isin(['Iceland', 'Bermuda', 'Norway']))] \n",
    "gdp_top"
   ]
  },
  {
   "cell_type": "code",
   "execution_count": null,
   "id": "f46633c0",
   "metadata": {},
   "outputs": [],
   "source": [
    "top3_graph = sns.FacetGrid(gdp_top, col='Country', hue='Country', palette='prism')\n",
    "top3_graph.map_dataframe(sns.scatterplot, x=\"Year\",  y=\"GDP_Per_Capita\")\n",
    "top3_graph.set_axis_labels('Year', 'GDP Per Capita')\n",
    "top3_graph.set_titles(col_template='{col_name}')"
   ]
  },
  {
   "cell_type": "markdown",
   "id": "b356a943",
   "metadata": {},
   "source": [
    "A: All three countries, Bermuda, Iceland, and Norway, in 2008/2009 there is a decrease in GDP per capita. All countires peaked around 2007."
   ]
  },
  {
   "cell_type": "markdown",
   "id": "396ab28d",
   "metadata": {},
   "source": [
    "22. Subset `gdp_and_internet_use` to just the year 2014. Save this as a new dataframe named `gdp_and_internet_use_2014`."
   ]
  },
  {
   "cell_type": "code",
   "execution_count": null,
   "id": "cfa6af25",
   "metadata": {},
   "outputs": [],
   "source": [
    "gdp_and_internet_use_2014 = gdp_and_internet_use.loc[(gdp_and_internet_use['Year']==2014)]\n",
    "gdp_and_internet_use_2014"
   ]
  },
  {
   "cell_type": "markdown",
   "id": "40e22bd6",
   "metadata": {},
   "source": [
    "23. Create a plot which compares Internet Users Percentage and GDP per Capita for the year 2014. What do you notice from this plot? If you see any unusual points, investigate them."
   ]
  },
  {
   "cell_type": "code",
   "execution_count": null,
   "id": "0faf7f1d",
   "metadata": {},
   "outputs": [],
   "source": [
    "sns.scatterplot(x=gdp_and_internet_use_2014[\"Internet_Users_Pct\"], y=gdp_and_internet_use_2014[\"GDP_Per_Capita\"])\n",
    "plt.xlabel('Internet Users Percent')\n",
    "plt.ylabel('GDP Per Capita')\n",
    "plt.title('Internet Users Percentage and GDP Per Capita from 2014')\n",
    "plt.show()"
   ]
  },
  {
   "cell_type": "code",
   "execution_count": null,
   "id": "3b4c6638",
   "metadata": {},
   "outputs": [],
   "source": []
  }
 ],
 "metadata": {
  "kernelspec": {
   "display_name": "Python 3 (ipykernel)",
   "language": "python",
   "name": "python3"
  },
  "language_info": {
   "codemirror_mode": {
    "name": "ipython",
    "version": 3
   },
   "file_extension": ".py",
   "mimetype": "text/x-python",
   "name": "python",
   "nbconvert_exporter": "python",
   "pygments_lexer": "ipython3",
   "version": "3.10.9"
  }
 },
 "nbformat": 4,
 "nbformat_minor": 5
}
